{
 "cells": [
  {
   "cell_type": "markdown",
   "id": "33a4a3f5-e147-4f72-85d3-14ff19b1ed91",
   "metadata": {},
   "source": [
    "# CatBoost Encoder: uma alternativa (interessante) aos métodos tradicionais de encoding  \n",
    "<br></br>\n",
    "\n",
    "![cat image](https://cdn.theatlantic.com/thumbor/A9iv2yRXo4Tydbm4f4WD9UGOQGg=/0x0:4800x2700/976x549/media/img/mt/2022/09/Cat_purr_1/original.jpg)  \n",
    "\n",
    "<br></br>\n",
    "## 1) Visão Geral\n",
    "Todo Cientista de Dados já se deparou com a seguinte dúvida: **como devo lidar com variáveis categóricas?**. As soluções mais utilizadas na prática consistem em convertê-las em variáveis numéricas de modo que os principais algoritmos de Machine Learning possam ser aplicados. *One hot encoding*, *Target encoder* e *Weight Of Evidence Encoding* são algumas das alternativas mais populares. Mas afinal, o que são variáveis categóricas?  \n",
    "  \n",
    "<br></br>\n",
    "Variáveis categóricas são aquelas que indicam uma característica não numérica, como uma marca automotiva, a cor de um produto, gênero de um filme ou a classe de um medicamento. Podem ser divididas em dois grupos:  \n",
    "<br></br>\n",
    ">- **Nominais**: Quando não existe uma hierarquia entre os valores. Por exemplo, se estamos modelando um algoritmo para estimar os preços de carros populares, podemos considerar que a cor do automóvel não impacta (será?) nos preços de venda.  \n",
    "<br></br>\n",
    ">- **Ordinárias**: Quando existe uma hierarquia entre os dados. Por exemplo, estágios de uma doença. Um paciente graduado no estágio D possui prognóstico pior que um graduado no estágio A, por exemplo. Logo, existe uma ordem entre o espectro da patologia, e seria interessante que o algoritmo de Machine Learning entenda isso.  \n",
    "\n",
    "<br></br>\n",
    "O objetivo desse artigo é apresentar as principais desvantagens destes 3 métodos de Encoding de variáveis categóricas e apresentar uma alternativa (CatBoost Encoder) comparando seus resultados com as técnicas tradicionais em uma mesma base de dados. Para esse artigo, foi escolhido o dataset [Categorical Feature Encoding Challenge](https://www.kaggle.com/c/cat-in-the-dat) do Kaggle. Essa base de dados possui apenas variáveis independentes categóricas, sendo portanto um bom exemplo para comparar as técnicas de encoding.\n",
    "<br></br>\n",
    "\n",
    "### 1.1) Prós e contras dos métodos tradicionais de Encoding\n",
    "*One-hot-encoding* é a técnica mais utilizada para transformar variáveis categóricas em numéricas. Ela converte variáveis categorias em vetores numéricos, ou seja, se uma coluna possui cardinalidade (número de valores distintos) $k$ e a base de dados tem dimensão $mxn$, após o One hot encoding, tem-se um dataset de dimensões $mx(n+k)$. A principal desvantagem é o aumento da dimensionalidade dos dados (tema para outro artigo), pois $k$ novas colunas serão criadas para indicar a presença ou ausência de cada categoria específica.\n",
    "<br></br>\n",
    "\n",
    "Uma alternativa à esse problema é utilizar um método de encoding que não aumente a dimensionalidade dos dados. *Target Encoding* consiste em substituir cada classe por sua frequência de aparecimento no alvo. Por exemplo, se a cor verde aparece 3 vezes quando o alvo é $1$ e a vermelho duas, verde será substituido por **0,6** e vermelho **0,4**. A grande desvantagem dessa técnica de encoding é o *Target Leakage*. Isto é um grande problema, pois insere-se dados do alvo na base em que o algoritmo de Machine Learning será treinado.\n",
    "<br></br>\n",
    "\n",
    "Outro método de encoding que tenta contornar essas desvantagens é o *Weight of Evidence (WOE)*. Sua definição matemática se baseia no logaritmo natural do *Odds Ratio (OR)* da frequência com que a classe aparece no alvo. \n",
    "<br></br>\n",
    "$$ln = Freq(eventos) / Freq(não - eventos)$$  \n",
    "Ou seja, quanto maior o WOE, maior a probabiliade daquele evento (valor) ocorrer. A grande vantagem do WOE é estabelecer uma relação monotônica (função que progride em apenas uma direção) entre as variáveis independentes e o alvo. \n",
    "\n",
    "### 1.2) A idéia por trás do CatBoost Encoder  \n",
    "Como explicado acima, seria interessante que um método de *encoding* unisse o útil ao agradável: não gerar aumento de dimensionalidade desnecessário, não criar ordenamento em variáveis nominais e não introduzir vazamento de dados da variável alvo. CatBoost Encoder preenche esses 3 critérios!  \n",
    "<br></br>\n",
    "\n",
    "A idéia principal desse algoritmo é fazer o encoding de forma sequencial. Assim como é feita a validação em um problema de séries temporais, o CatBoost Encoder percorre a base de dados de modo progressivo, estimando por etapas a frequência de cada classe. Dessa forma, as frequências dos registros avaliados primeiro adquirem variância maior, já que a o algoritmo ainda verificou poucos registros. Contudo, a medida que o CatBoost percorre a base de dados, as frequências iniciais são atualizadas de modo recorrênte, por meio da média do valor de cada classe na base toda.\n",
    "<br></br>\n",
    "\n",
    "## 2) Prática...  \n",
    "Em tese, esse processo de encoding iterativo soluciona o problema do Target Leakage, já que as frequências são atualizadas de maneira sucessiva. Vejamos agora como isso funciona na prática. Como o foco deste artigo não é realizar uma análise exploratória de dados (EDA) detalhada, fui o mais breve possível nessa etapa e parti diretamente para a comparação dos métodos.\n",
    "<br></br>\n",
    "\n",
    "Para isso, abaixo instalo a biblioteca category_encoders, que possui a implementação do CatBoost Encoder, importo as bibliotecas e carrego a base de dados train.csv do link disponibilizado acima."
   ]
  },
  {
   "cell_type": "code",
   "execution_count": 1,
   "id": "3da663b4",
   "metadata": {
    "collapsed": true
   },
   "outputs": [
    {
     "name": "stdout",
     "output_type": "stream",
     "text": [
      "Collecting category-encoders\n",
      "  Downloading category_encoders-2.5.1.post0-py2.py3-none-any.whl (72 kB)\n",
      "\u001b[2K     \u001b[38;2;114;156;31m━━━━━━━━━━━━━━━━━━━━━━━━━━━━━━━━━━━━━━━\u001b[0m \u001b[32m72.4/72.4 KB\u001b[0m \u001b[31m342.0 kB/s\u001b[0m eta \u001b[36m0:00:00\u001b[0m eta \u001b[36m0:00:01\u001b[0m\n",
      "\u001b[?25hRequirement already satisfied: pandas>=1.0.5 in ./miniconda3/lib/python3.9/site-packages (from category-encoders) (1.2.5)\n",
      "Requirement already satisfied: patsy>=0.5.1 in ./miniconda3/lib/python3.9/site-packages (from category-encoders) (0.5.1)\n",
      "Requirement already satisfied: scikit-learn>=0.20.0 in ./miniconda3/lib/python3.9/site-packages (from category-encoders) (1.1.1)\n",
      "Requirement already satisfied: scipy>=1.0.0 in ./miniconda3/lib/python3.9/site-packages (from category-encoders) (1.7.1)\n",
      "Requirement already satisfied: statsmodels>=0.9.0 in ./miniconda3/lib/python3.9/site-packages (from category-encoders) (0.12.2)\n",
      "Requirement already satisfied: numpy>=1.14.0 in ./miniconda3/lib/python3.9/site-packages (from category-encoders) (1.22.4)\n",
      "Requirement already satisfied: pytz>=2017.3 in ./miniconda3/lib/python3.9/site-packages (from pandas>=1.0.5->category-encoders) (2022.1)\n",
      "Requirement already satisfied: python-dateutil>=2.7.3 in ./miniconda3/lib/python3.9/site-packages (from pandas>=1.0.5->category-encoders) (2.8.2)\n",
      "Requirement already satisfied: six in ./miniconda3/lib/python3.9/site-packages (from patsy>=0.5.1->category-encoders) (1.15.0)\n",
      "Requirement already satisfied: threadpoolctl>=2.0.0 in ./miniconda3/lib/python3.9/site-packages (from scikit-learn>=0.20.0->category-encoders) (2.2.0)\n",
      "Requirement already satisfied: joblib>=1.0.0 in ./miniconda3/lib/python3.9/site-packages (from scikit-learn>=0.20.0->category-encoders) (1.0.1)\n",
      "Installing collected packages: category-encoders\n",
      "Successfully installed category-encoders-2.5.1.post0\n",
      "\u001b[33mWARNING: You are using pip version 22.0.4; however, version 22.3 is available.\n",
      "You should consider upgrading via the '/home/joseraposo/miniconda3/bin/python -m pip install --upgrade pip' command.\u001b[0m\u001b[33m\n",
      "\u001b[0mNote: you may need to restart the kernel to use updated packages.\n"
     ]
    }
   ],
   "source": [
    "# pip install category-encoders"
   ]
  },
  {
   "cell_type": "code",
   "execution_count": 1,
   "id": "918cf329-5366-4869-8f0a-d8567209b4ce",
   "metadata": {},
   "outputs": [],
   "source": [
    "# Algebra linear e dataframes\n",
    "import pandas as pd\n",
    "import numpy as np\n",
    "import matplotlib.pyplot as plt\n",
    "\n",
    "# Métodos de encoding tradicionais\n",
    "from sklearn.model_selection import train_test_split, cross_val_score\n",
    "from sklearn.preprocessing import OneHotEncoder\n",
    "from sklearn.impute import SimpleImputer\n",
    "\n",
    "# Encoders\n",
    "from category_encoders import TargetEncoder, WOEEncoder\n",
    "from category_encoders.cat_boost import CatBoostEncoder\n",
    "\n",
    "# Pipeline \n",
    "from sklearn.pipeline import Pipeline\n",
    "\n",
    "# Algoritmos de Machine Learning\n",
    "from sklearn.linear_model import LogisticRegression\n",
    "from sklearn.neighbors import KNeighborsClassifier\n",
    "from sklearn.svm import SVC\n",
    "from sklearn.tree import DecisionTreeClassifier\n",
    "from sklearn.ensemble import RandomForestClassifier, HistGradientBoostingClassifier\n",
    "from catboost import CatBoostClassifier\n",
    "\n",
    "# Métrica alvo da competição\n",
    "from sklearn.metrics import roc_auc_score\n",
    "\n",
    "%matplotlib inline\n",
    "pd.set_option('display.max_columns', 50)\n",
    "import gc"
   ]
  },
  {
   "cell_type": "markdown",
   "id": "4d9a24d9",
   "metadata": {},
   "source": [
    "Abaixo, carrego a base de dados previamente convertida em Parquet, por questões de otimização de memória local:"
   ]
  },
  {
   "cell_type": "code",
   "execution_count": 2,
   "id": "7a7bcef2",
   "metadata": {},
   "outputs": [
    {
     "data": {
      "text/html": [
       "<div>\n",
       "<style scoped>\n",
       "    .dataframe tbody tr th:only-of-type {\n",
       "        vertical-align: middle;\n",
       "    }\n",
       "\n",
       "    .dataframe tbody tr th {\n",
       "        vertical-align: top;\n",
       "    }\n",
       "\n",
       "    .dataframe thead th {\n",
       "        text-align: right;\n",
       "    }\n",
       "</style>\n",
       "<table border=\"1\" class=\"dataframe\">\n",
       "  <thead>\n",
       "    <tr style=\"text-align: right;\">\n",
       "      <th></th>\n",
       "      <th>bin_0</th>\n",
       "      <th>bin_1</th>\n",
       "      <th>bin_2</th>\n",
       "      <th>bin_3</th>\n",
       "      <th>bin_4</th>\n",
       "      <th>nom_0</th>\n",
       "      <th>nom_1</th>\n",
       "      <th>nom_2</th>\n",
       "      <th>nom_3</th>\n",
       "      <th>nom_4</th>\n",
       "      <th>nom_5</th>\n",
       "      <th>nom_6</th>\n",
       "      <th>nom_7</th>\n",
       "      <th>nom_8</th>\n",
       "      <th>nom_9</th>\n",
       "      <th>ord_0</th>\n",
       "      <th>ord_1</th>\n",
       "      <th>ord_2</th>\n",
       "      <th>ord_3</th>\n",
       "      <th>ord_4</th>\n",
       "      <th>ord_5</th>\n",
       "      <th>day</th>\n",
       "      <th>month</th>\n",
       "      <th>target</th>\n",
       "    </tr>\n",
       "    <tr>\n",
       "      <th>id</th>\n",
       "      <th></th>\n",
       "      <th></th>\n",
       "      <th></th>\n",
       "      <th></th>\n",
       "      <th></th>\n",
       "      <th></th>\n",
       "      <th></th>\n",
       "      <th></th>\n",
       "      <th></th>\n",
       "      <th></th>\n",
       "      <th></th>\n",
       "      <th></th>\n",
       "      <th></th>\n",
       "      <th></th>\n",
       "      <th></th>\n",
       "      <th></th>\n",
       "      <th></th>\n",
       "      <th></th>\n",
       "      <th></th>\n",
       "      <th></th>\n",
       "      <th></th>\n",
       "      <th></th>\n",
       "      <th></th>\n",
       "      <th></th>\n",
       "    </tr>\n",
       "  </thead>\n",
       "  <tbody>\n",
       "    <tr>\n",
       "      <th>0</th>\n",
       "      <td>0</td>\n",
       "      <td>0</td>\n",
       "      <td>0</td>\n",
       "      <td>T</td>\n",
       "      <td>Y</td>\n",
       "      <td>Green</td>\n",
       "      <td>Triangle</td>\n",
       "      <td>Snake</td>\n",
       "      <td>Finland</td>\n",
       "      <td>Bassoon</td>\n",
       "      <td>50f116bcf</td>\n",
       "      <td>3ac1b8814</td>\n",
       "      <td>68f6ad3e9</td>\n",
       "      <td>c389000ab</td>\n",
       "      <td>2f4cb3d51</td>\n",
       "      <td>2</td>\n",
       "      <td>Grandmaster</td>\n",
       "      <td>Cold</td>\n",
       "      <td>h</td>\n",
       "      <td>D</td>\n",
       "      <td>kr</td>\n",
       "      <td>2</td>\n",
       "      <td>2</td>\n",
       "      <td>0</td>\n",
       "    </tr>\n",
       "    <tr>\n",
       "      <th>1</th>\n",
       "      <td>0</td>\n",
       "      <td>1</td>\n",
       "      <td>0</td>\n",
       "      <td>T</td>\n",
       "      <td>Y</td>\n",
       "      <td>Green</td>\n",
       "      <td>Trapezoid</td>\n",
       "      <td>Hamster</td>\n",
       "      <td>Russia</td>\n",
       "      <td>Piano</td>\n",
       "      <td>b3b4d25d0</td>\n",
       "      <td>fbcb50fc1</td>\n",
       "      <td>3b6dd5612</td>\n",
       "      <td>4cd920251</td>\n",
       "      <td>f83c56c21</td>\n",
       "      <td>1</td>\n",
       "      <td>Grandmaster</td>\n",
       "      <td>Hot</td>\n",
       "      <td>a</td>\n",
       "      <td>A</td>\n",
       "      <td>bF</td>\n",
       "      <td>7</td>\n",
       "      <td>8</td>\n",
       "      <td>0</td>\n",
       "    </tr>\n",
       "    <tr>\n",
       "      <th>2</th>\n",
       "      <td>0</td>\n",
       "      <td>0</td>\n",
       "      <td>0</td>\n",
       "      <td>F</td>\n",
       "      <td>Y</td>\n",
       "      <td>Blue</td>\n",
       "      <td>Trapezoid</td>\n",
       "      <td>Lion</td>\n",
       "      <td>Russia</td>\n",
       "      <td>Theremin</td>\n",
       "      <td>3263bdce5</td>\n",
       "      <td>0922e3cb8</td>\n",
       "      <td>a6a36f527</td>\n",
       "      <td>de9c9f684</td>\n",
       "      <td>ae6800dd0</td>\n",
       "      <td>1</td>\n",
       "      <td>Expert</td>\n",
       "      <td>Lava Hot</td>\n",
       "      <td>h</td>\n",
       "      <td>R</td>\n",
       "      <td>Jc</td>\n",
       "      <td>7</td>\n",
       "      <td>2</td>\n",
       "      <td>0</td>\n",
       "    </tr>\n",
       "  </tbody>\n",
       "</table>\n",
       "</div>"
      ],
      "text/plain": [
       "    bin_0  bin_1  bin_2 bin_3 bin_4  nom_0      nom_1    nom_2    nom_3  \\\n",
       "id                                                                        \n",
       "0       0      0      0     T     Y  Green   Triangle    Snake  Finland   \n",
       "1       0      1      0     T     Y  Green  Trapezoid  Hamster   Russia   \n",
       "2       0      0      0     F     Y   Blue  Trapezoid     Lion   Russia   \n",
       "\n",
       "       nom_4      nom_5      nom_6      nom_7      nom_8      nom_9  ord_0  \\\n",
       "id                                                                           \n",
       "0    Bassoon  50f116bcf  3ac1b8814  68f6ad3e9  c389000ab  2f4cb3d51      2   \n",
       "1      Piano  b3b4d25d0  fbcb50fc1  3b6dd5612  4cd920251  f83c56c21      1   \n",
       "2   Theremin  3263bdce5  0922e3cb8  a6a36f527  de9c9f684  ae6800dd0      1   \n",
       "\n",
       "          ord_1     ord_2 ord_3 ord_4 ord_5  day  month  target  \n",
       "id                                                               \n",
       "0   Grandmaster      Cold     h     D    kr    2      2       0  \n",
       "1   Grandmaster       Hot     a     A    bF    7      8       0  \n",
       "2        Expert  Lava Hot     h     R    Jc    7      2       0  "
      ]
     },
     "execution_count": 2,
     "metadata": {},
     "output_type": "execute_result"
    }
   ],
   "source": [
    "df = pd.read_parquet('train.parquet')\n",
    "df.head(3)"
   ]
  },
  {
   "cell_type": "code",
   "execution_count": 3,
   "id": "2c629058",
   "metadata": {},
   "outputs": [
    {
     "name": "stdout",
     "output_type": "stream",
     "text": [
      "<class 'pandas.core.frame.DataFrame'>\n",
      "Int64Index: 300000 entries, 0 to 299999\n",
      "Data columns (total 24 columns):\n",
      " #   Column  Non-Null Count   Dtype \n",
      "---  ------  --------------   ----- \n",
      " 0   bin_0   300000 non-null  int64 \n",
      " 1   bin_1   300000 non-null  int64 \n",
      " 2   bin_2   300000 non-null  int64 \n",
      " 3   bin_3   300000 non-null  object\n",
      " 4   bin_4   300000 non-null  object\n",
      " 5   nom_0   300000 non-null  object\n",
      " 6   nom_1   300000 non-null  object\n",
      " 7   nom_2   300000 non-null  object\n",
      " 8   nom_3   300000 non-null  object\n",
      " 9   nom_4   300000 non-null  object\n",
      " 10  nom_5   300000 non-null  object\n",
      " 11  nom_6   300000 non-null  object\n",
      " 12  nom_7   300000 non-null  object\n",
      " 13  nom_8   300000 non-null  object\n",
      " 14  nom_9   300000 non-null  object\n",
      " 15  ord_0   300000 non-null  int64 \n",
      " 16  ord_1   300000 non-null  object\n",
      " 17  ord_2   300000 non-null  object\n",
      " 18  ord_3   300000 non-null  object\n",
      " 19  ord_4   300000 non-null  object\n",
      " 20  ord_5   300000 non-null  object\n",
      " 21  day     300000 non-null  int64 \n",
      " 22  month   300000 non-null  int64 \n",
      " 23  target  300000 non-null  int64 \n",
      "dtypes: int64(7), object(17)\n",
      "memory usage: 57.2+ MB\n"
     ]
    }
   ],
   "source": [
    "df.info()"
   ]
  },
  {
   "cell_type": "markdown",
   "id": "df1a9640",
   "metadata": {},
   "source": [
    "Precisamos converter as colunas do tipo int64 para object. Afinal, embora representadas por números, na verdade tratam-se de variáveis categóricas! Para isso, criamos uma função lambda simples."
   ]
  },
  {
   "cell_type": "code",
   "execution_count": 4,
   "id": "2e9003f6",
   "metadata": {},
   "outputs": [],
   "source": [
    "def convert_type(dataframe):\n",
    "    df = dataframe.copy()\n",
    "    for col in df.columns[:-1]:\n",
    "        if df[col].dtypes == 'int64':\n",
    "            df[col] = df[col].astype('object')\n",
    "    return df"
   ]
  },
  {
   "cell_type": "code",
   "execution_count": 5,
   "id": "51643a28",
   "metadata": {},
   "outputs": [
    {
     "name": "stdout",
     "output_type": "stream",
     "text": [
      "<class 'pandas.core.frame.DataFrame'>\n",
      "Int64Index: 300000 entries, 0 to 299999\n",
      "Data columns (total 24 columns):\n",
      " #   Column  Non-Null Count   Dtype \n",
      "---  ------  --------------   ----- \n",
      " 0   bin_0   300000 non-null  object\n",
      " 1   bin_1   300000 non-null  object\n",
      " 2   bin_2   300000 non-null  object\n",
      " 3   bin_3   300000 non-null  object\n",
      " 4   bin_4   300000 non-null  object\n",
      " 5   nom_0   300000 non-null  object\n",
      " 6   nom_1   300000 non-null  object\n",
      " 7   nom_2   300000 non-null  object\n",
      " 8   nom_3   300000 non-null  object\n",
      " 9   nom_4   300000 non-null  object\n",
      " 10  nom_5   300000 non-null  object\n",
      " 11  nom_6   300000 non-null  object\n",
      " 12  nom_7   300000 non-null  object\n",
      " 13  nom_8   300000 non-null  object\n",
      " 14  nom_9   300000 non-null  object\n",
      " 15  ord_0   300000 non-null  object\n",
      " 16  ord_1   300000 non-null  object\n",
      " 17  ord_2   300000 non-null  object\n",
      " 18  ord_3   300000 non-null  object\n",
      " 19  ord_4   300000 non-null  object\n",
      " 20  ord_5   300000 non-null  object\n",
      " 21  day     300000 non-null  object\n",
      " 22  month   300000 non-null  object\n",
      " 23  target  300000 non-null  int64 \n",
      "dtypes: int64(1), object(23)\n",
      "memory usage: 57.2+ MB\n"
     ]
    }
   ],
   "source": [
    "df = convert_type(df)\n",
    "df.info()"
   ]
  },
  {
   "cell_type": "markdown",
   "id": "efba48ef",
   "metadata": {},
   "source": [
    "Em seguida, após converter os tipos de variáveis categóricas para object, devemos dividir a base de dados em base de treino e teste. A base de treino (70%) será usada tanto para treino quanto para validação dos modelos utilizados. Para cada modelo, comparo a AUROC de 3 pipelines distintos: One-hot-encoding + Modelo, Label encoder + Modelo e CatBoost Encoder + Modelo.  \n",
    "<br></br>\n",
    "> Antes disso, é imprescindível verificar a distribuição da variável alvo em busca desproporção entre os alvos. Isso é importante pois nos indica se devemos fazer um split estratificado ou não. "
   ]
  },
  {
   "cell_type": "code",
   "execution_count": 6,
   "id": "bb5c2ec0",
   "metadata": {},
   "outputs": [
    {
     "data": {
      "text/plain": [
       "0    69.412\n",
       "1    30.588\n",
       "Name: target, dtype: float64"
      ]
     },
     "execution_count": 6,
     "metadata": {},
     "output_type": "execute_result"
    }
   ],
   "source": [
    "df.target.value_counts(normalize=True)*100"
   ]
  },
  {
   "cell_type": "markdown",
   "id": "3ec6e54e",
   "metadata": {},
   "source": [
    "Como existe desbalanceamento na base, é prudente realizar o split da base de treino e de teste de maneira estratificada, ou seja, mantendo a proporção entre o alvo $0$ e $1$ no subset de treinamento dos modelos e de teste."
   ]
  },
  {
   "cell_type": "code",
   "execution_count": 7,
   "id": "8d44544c",
   "metadata": {},
   "outputs": [],
   "source": [
    "Xtrain, Xtest, ytrain, ytest = train_test_split(df.drop('target', axis = 1), df.target,\n",
    "                                               test_size = .5, random_state = 2022, stratify = df.target)"
   ]
  },
  {
   "cell_type": "code",
   "execution_count": 8,
   "id": "796316e2",
   "metadata": {},
   "outputs": [
    {
     "data": {
      "text/plain": [
       "84"
      ]
     },
     "execution_count": 8,
     "metadata": {},
     "output_type": "execute_result"
    }
   ],
   "source": [
    "del df\n",
    "gc.collect()"
   ]
  },
  {
   "cell_type": "code",
   "execution_count": 122,
   "id": "cc8a855c",
   "metadata": {},
   "outputs": [],
   "source": [
    "# filtrando warnings -  use com cautela!\n",
    "import warnings\n",
    "warnings.filterwarnings('ignore')\n",
    "\n",
    "# definindo os objetos dos encoders e dos modelos\n",
    "ohe = OneHotEncoder(handle_unknown = 'ignore')\n",
    "te = TargetEncoder(handle_unknown = 'ignore', handle_missing='value')\n",
    "woe = WOEEncoder(handle_unknown = 'ignore')\n",
    "cbe = CatBoostEncoder(random_state = 2022, handle_unknown = 'ignore')\n",
    "\n",
    "# dicionário de encoders\n",
    "dict_encoders = {'One Hot Encoder': ohe, 'Target Encoder': te, 'WOE encoder': woe, 'CatBoost Encoder': cbe}\n",
    "\n",
    "# modelos de ML\n",
    "lr = LogisticRegression(random_state = 2022, max_iter = 5000)\n",
    "dt = DecisionTreeClassifier(criterion='gini', random_state = 2022, max_depth = 5)\n",
    "rf = RandomForestClassifier(random_state = 2022, max_depth = 5)\n",
    "cat = CatBoostClassifier(random_seed = 2022, max_depth = 5, verbose = False)\n",
    "\n",
    "# lista de modelos\n",
    "dict_modelos = {'Logistic Reg': lr, 'Decision Tree': dt, 'Random Forest': rf, 'CatBoost': cat}"
   ]
  },
  {
   "cell_type": "code",
   "execution_count": 11,
   "id": "7e667c9c",
   "metadata": {},
   "outputs": [],
   "source": [
    "def validate_models(X, y):\n",
    "    # definindo os datasets\n",
    "    Xtrain = X.copy()\n",
    "    ytrain = y.copy()\n",
    "    \n",
    "    # para cada encoder...\n",
    "    for enc_name, enc in dict_encoders.items():\n",
    "        # para cada algoritmo...\n",
    "        for model_name, model in dict_modelos.items():\n",
    "            # defino cada pipeline...\n",
    "            pipe = Pipeline([(f'{enc_name}', enc),('SI', SimpleImputer(strategy='most_frequent')), \n",
    "                                                   (f'{model_name}', model)])\n",
    "            scores = cross_val_score(pipe, Xtrain, ytrain, cv = 3, scoring = 'roc_auc')\n",
    "            media = np.mean(scores)\n",
    "            std = np.std(scores)\n",
    "            print(f'{enc_name} + {model_name} Mean AUROC:{media}. STD AUROC:{std}')\n",
    "    return 50*'='"
   ]
  },
  {
   "cell_type": "code",
   "execution_count": 12,
   "id": "9164a592",
   "metadata": {},
   "outputs": [
    {
     "name": "stdout",
     "output_type": "stream",
     "text": [
      "One Hot Encoder + Logistic Reg Mean AUROC:0.7844207866092363. STD AUROC:0.0012478793593643377\n",
      "One Hot Encoder + Decision Tree Mean AUROC:0.6411876331642936. STD AUROC:0.0014111762296416775\n",
      "One Hot Encoder + Random Forest Mean AUROC:0.7274688950448539. STD AUROC:0.007444996518322443\n",
      "One Hot Encoder + CatBoost Mean AUROC:0.7725752134402292. STD AUROC:0.0022961726314587906\n",
      "Target Encoder + Logistic Reg Mean AUROC:0.7564255859490162. STD AUROC:0.001825351481888782\n",
      "Target Encoder + Decision Tree Mean AUROC:0.5981932729940435. STD AUROC:0.002442384617085875\n",
      "Target Encoder + Random Forest Mean AUROC:0.670838920847704. STD AUROC:0.0019957560510435865\n",
      "Target Encoder + CatBoost Mean AUROC:0.7383863286631712. STD AUROC:0.002311628389284941\n",
      "WOE encoder + Logistic Reg Mean AUROC:0.7582953078157519. STD AUROC:0.0017640100216154639\n",
      "WOE encoder + Decision Tree Mean AUROC:0.5931300515919594. STD AUROC:0.0037424882704039436\n",
      "WOE encoder + Random Forest Mean AUROC:0.671361519497751. STD AUROC:0.002424804884513867\n",
      "WOE encoder + CatBoost Mean AUROC:0.7519261844955855. STD AUROC:0.0023566365817775537\n",
      "CatBoost Encoder + Logistic Reg Mean AUROC:0.7859794478090797. STD AUROC:0.0017858650217895374\n",
      "CatBoost Encoder + Decision Tree Mean AUROC:0.6862451576372166. STD AUROC:0.0010614301399431247\n",
      "CatBoost Encoder + Random Forest Mean AUROC:0.7425150078370834. STD AUROC:0.0018155163213465714\n",
      "CatBoost Encoder + CatBoost Mean AUROC:0.7873037127983463. STD AUROC:0.0019610203112631758\n"
     ]
    },
    {
     "data": {
      "text/plain": [
       "'=================================================='"
      ]
     },
     "execution_count": 12,
     "metadata": {},
     "output_type": "execute_result"
    }
   ],
   "source": [
    "# selecionango o melhor pipeline\n",
    "validate_models(Xtrain, ytrain)"
   ]
  },
  {
   "cell_type": "markdown",
   "id": "af0c3784",
   "metadata": {},
   "source": [
    "Agora, vejamos os melhores algoritmos comparando os resultados de ROC AUC por técnica de Encoding."
   ]
  },
  {
   "cell_type": "code",
   "execution_count": 101,
   "id": "baf7a5a5",
   "metadata": {},
   "outputs": [],
   "source": [
    "resultados = {\n",
    "    'OHE': {'Logistic Regression': 78.4, 'Random Forest': 72.7, 'CatBoost': 77.2},\n",
    "    'TE': {'Logistic Regression': 75.6, 'Random Forest': 67.0, 'CatBoost': 73.8},\n",
    "    'WOE': {'Logistic Regression': 75.8, 'Random Forest': 67.1, 'CatBoost': 75.1},\n",
    "    'CatBoost Encoder': {'Logistic Regression': 78.6, 'Random Forest': 74.2, 'CatBoost': 78.7}\n",
    "}\n",
    "\n",
    "tmpdf = pd.DataFrame(resultados)"
   ]
  },
  {
   "cell_type": "code",
   "execution_count": 104,
   "id": "620846c3",
   "metadata": {},
   "outputs": [
    {
     "data": {
      "text/plain": [
       "''"
      ]
     },
     "execution_count": 104,
     "metadata": {},
     "output_type": "execute_result"
    },
    {
     "data": {
      "image/png": "[encoded data removed]",
      "text/plain": [
       "<Figure size 576x576 with 1 Axes>"
      ]
     },
     "metadata": {
      "needs_background": "light"
     },
     "output_type": "display_data"
    }
   ],
   "source": [
    "# barplot\n",
    "tmpdf.plot(kind = 'barh', color = ['blue','royalblue', 'lightblue','red'], figsize=[8,8], alpha = .85)\n",
    "plt.ylabel('Modelo', size = 13)\n",
    "plt.xlabel('AUROC (%)', size = 13)\n",
    "plt.legend(loc='center left', bbox_to_anchor=(1, .929));"
   ]
  },
  {
   "cell_type": "markdown",
   "id": "9c24d9df",
   "metadata": {},
   "source": [
    "###### Conforme a figura apresenta, os pipelines que utilizaram CatBoost Encoder apresentaram uma AUROC discretamente acima quando comparados aos métodos de *encoging* tradicionais, para todos os modelos de Machine Learning avaliados.\n",
    "<br></br>\n",
    "\n",
    "Além disso, o Pipeline de melhor desempenho considerando a métrica AUROC de validação foi o CatBoost Encoder + CatBoost. Vamos então usá-lo na base de dados de teste e verificar se a métrica se mantém próxima do resultado obtido. Para isso, criamos o pipeline, treinamos na base de treino completa e em seguida realizamos as predições na base de testes e comparando ambas."
   ]
  },
  {
   "cell_type": "code",
   "execution_count": 131,
   "id": "421672e4",
   "metadata": {
    "collapsed": true
   },
   "outputs": [
    {
     "data": {
      "text/html": [
       "<style>#sk-container-id-13 {color: black;background-color: white;}#sk-container-id-13 pre{padding: 0;}#sk-container-id-13 div.sk-toggleable {background-color: white;}#sk-container-id-13 label.sk-toggleable__label {cursor: pointer;display: block;width: 100%;margin-bottom: 0;padding: 0.3em;box-sizing: border-box;text-align: center;}#sk-container-id-13 label.sk-toggleable__label-arrow:before {content: \"▸\";float: left;margin-right: 0.25em;color: #696969;}#sk-container-id-13 label.sk-toggleable__label-arrow:hover:before {color: black;}#sk-container-id-13 div.sk-estimator:hover label.sk-toggleable__label-arrow:before {color: black;}#sk-container-id-13 div.sk-toggleable__content {max-height: 0;max-width: 0;overflow: hidden;text-align: left;background-color: #f0f8ff;}#sk-container-id-13 div.sk-toggleable__content pre {margin: 0.2em;color: black;border-radius: 0.25em;background-color: #f0f8ff;}#sk-container-id-13 input.sk-toggleable__control:checked~div.sk-toggleable__content {max-height: 200px;max-width: 100%;overflow: auto;}#sk-container-id-13 input.sk-toggleable__control:checked~label.sk-toggleable__label-arrow:before {content: \"▾\";}#sk-container-id-13 div.sk-estimator input.sk-toggleable__control:checked~label.sk-toggleable__label {background-color: #d4ebff;}#sk-container-id-13 div.sk-label input.sk-toggleable__control:checked~label.sk-toggleable__label {background-color: #d4ebff;}#sk-container-id-13 input.sk-hidden--visually {border: 0;clip: rect(1px 1px 1px 1px);clip: rect(1px, 1px, 1px, 1px);height: 1px;margin: -1px;overflow: hidden;padding: 0;position: absolute;width: 1px;}#sk-container-id-13 div.sk-estimator {font-family: monospace;background-color: #f0f8ff;border: 1px dotted black;border-radius: 0.25em;box-sizing: border-box;margin-bottom: 0.5em;}#sk-container-id-13 div.sk-estimator:hover {background-color: #d4ebff;}#sk-container-id-13 div.sk-parallel-item::after {content: \"\";width: 100%;border-bottom: 1px solid gray;flex-grow: 1;}#sk-container-id-13 div.sk-label:hover label.sk-toggleable__label {background-color: #d4ebff;}#sk-container-id-13 div.sk-serial::before {content: \"\";position: absolute;border-left: 1px solid gray;box-sizing: border-box;top: 0;bottom: 0;left: 50%;z-index: 0;}#sk-container-id-13 div.sk-serial {display: flex;flex-direction: column;align-items: center;background-color: white;padding-right: 0.2em;padding-left: 0.2em;position: relative;}#sk-container-id-13 div.sk-item {position: relative;z-index: 1;}#sk-container-id-13 div.sk-parallel {display: flex;align-items: stretch;justify-content: center;background-color: white;position: relative;}#sk-container-id-13 div.sk-item::before, #sk-container-id-13 div.sk-parallel-item::before {content: \"\";position: absolute;border-left: 1px solid gray;box-sizing: border-box;top: 0;bottom: 0;left: 50%;z-index: -1;}#sk-container-id-13 div.sk-parallel-item {display: flex;flex-direction: column;z-index: 1;position: relative;background-color: white;}#sk-container-id-13 div.sk-parallel-item:first-child::after {align-self: flex-end;width: 50%;}#sk-container-id-13 div.sk-parallel-item:last-child::after {align-self: flex-start;width: 50%;}#sk-container-id-13 div.sk-parallel-item:only-child::after {width: 0;}#sk-container-id-13 div.sk-dashed-wrapped {border: 1px dashed gray;margin: 0 0.4em 0.5em 0.4em;box-sizing: border-box;padding-bottom: 0.4em;background-color: white;}#sk-container-id-13 div.sk-label label {font-family: monospace;font-weight: bold;display: inline-block;line-height: 1.2em;}#sk-container-id-13 div.sk-label-container {text-align: center;}#sk-container-id-13 div.sk-container {/* jupyter's `normalize.less` sets `[hidden] { display: none; }` but bootstrap.min.css set `[hidden] { display: none !important; }` so we also need the `!important` here to be able to override the default hidden behavior on the sphinx rendered scikit-learn.org. See: https://github.com/scikit-learn/scikit-learn/issues/21755 */display: inline-block !important;position: relative;}#sk-container-id-13 div.sk-text-repr-fallback {display: none;}</style><div id=\"sk-container-id-13\" class=\"sk-top-container\"><div class=\"sk-text-repr-fallback\"><pre>Pipeline(steps=[(&#x27;CatBoost Encoder&#x27;,\n",
       "                 CatBoostEncoder(handle_unknown=&#x27;ignore&#x27;, random_state=2022)),\n",
       "                (&#x27;SI&#x27;, SimpleImputer(strategy=&#x27;most_frequent&#x27;)),\n",
       "                (&#x27;CatBoostClassifier&#x27;,\n",
       "                 &lt;catboost.core.CatBoostClassifier object at 0x7ff5eacfbf70&gt;)])</pre><b>In a Jupyter environment, please rerun this cell to show the HTML representation or trust the notebook. <br />On GitHub, the HTML representation is unable to render, please try loading this page with nbviewer.org.</b></div><div class=\"sk-container\" hidden><div class=\"sk-item sk-dashed-wrapped\"><div class=\"sk-label-container\"><div class=\"sk-label sk-toggleable\"><input class=\"sk-toggleable__control sk-hidden--visually\" id=\"sk-estimator-id-49\" type=\"checkbox\" ><label for=\"sk-estimator-id-49\" class=\"sk-toggleable__label sk-toggleable__label-arrow\">Pipeline</label><div class=\"sk-toggleable__content\"><pre>Pipeline(steps=[(&#x27;CatBoost Encoder&#x27;,\n",
       "                 CatBoostEncoder(handle_unknown=&#x27;ignore&#x27;, random_state=2022)),\n",
       "                (&#x27;SI&#x27;, SimpleImputer(strategy=&#x27;most_frequent&#x27;)),\n",
       "                (&#x27;CatBoostClassifier&#x27;,\n",
       "                 &lt;catboost.core.CatBoostClassifier object at 0x7ff5eacfbf70&gt;)])</pre></div></div></div><div class=\"sk-serial\"><div class=\"sk-item\"><div class=\"sk-estimator sk-toggleable\"><input class=\"sk-toggleable__control sk-hidden--visually\" id=\"sk-estimator-id-50\" type=\"checkbox\" ><label for=\"sk-estimator-id-50\" class=\"sk-toggleable__label sk-toggleable__label-arrow\">CatBoostEncoder</label><div class=\"sk-toggleable__content\"><pre>CatBoostEncoder(handle_unknown=&#x27;ignore&#x27;, random_state=2022)</pre></div></div></div><div class=\"sk-item\"><div class=\"sk-estimator sk-toggleable\"><input class=\"sk-toggleable__control sk-hidden--visually\" id=\"sk-estimator-id-51\" type=\"checkbox\" ><label for=\"sk-estimator-id-51\" class=\"sk-toggleable__label sk-toggleable__label-arrow\">SimpleImputer</label><div class=\"sk-toggleable__content\"><pre>SimpleImputer(strategy=&#x27;most_frequent&#x27;)</pre></div></div></div><div class=\"sk-item\"><div class=\"sk-estimator sk-toggleable\"><input class=\"sk-toggleable__control sk-hidden--visually\" id=\"sk-estimator-id-52\" type=\"checkbox\" ><label for=\"sk-estimator-id-52\" class=\"sk-toggleable__label sk-toggleable__label-arrow\">CatBoostClassifier</label><div class=\"sk-toggleable__content\"><pre>&lt;catboost.core.CatBoostClassifier object at 0x7ff5eacfbf70&gt;</pre></div></div></div></div></div></div></div>"
      ],
      "text/plain": [
       "Pipeline(steps=[('CatBoost Encoder',\n",
       "                 CatBoostEncoder(handle_unknown='ignore', random_state=2022)),\n",
       "                ('SI', SimpleImputer(strategy='most_frequent')),\n",
       "                ('CatBoostClassifier',\n",
       "                 <catboost.core.CatBoostClassifier object at 0x7ff5eacfbf70>)])"
      ]
     },
     "execution_count": 131,
     "metadata": {},
     "output_type": "execute_result"
    }
   ],
   "source": [
    "# pipeline vitorioso\n",
    "pipe = Pipeline([('CatBoost Encoder', cbe),('SI', SimpleImputer(strategy='most_frequent')),('CatBoostClassifier', cat)])\n",
    "pipe"
   ]
  },
  {
   "cell_type": "code",
   "execution_count": 132,
   "id": "ece09a04",
   "metadata": {
    "collapsed": true
   },
   "outputs": [
    {
     "data": {
      "text/html": [
       "<style>#sk-container-id-14 {color: black;background-color: white;}#sk-container-id-14 pre{padding: 0;}#sk-container-id-14 div.sk-toggleable {background-color: white;}#sk-container-id-14 label.sk-toggleable__label {cursor: pointer;display: block;width: 100%;margin-bottom: 0;padding: 0.3em;box-sizing: border-box;text-align: center;}#sk-container-id-14 label.sk-toggleable__label-arrow:before {content: \"▸\";float: left;margin-right: 0.25em;color: #696969;}#sk-container-id-14 label.sk-toggleable__label-arrow:hover:before {color: black;}#sk-container-id-14 div.sk-estimator:hover label.sk-toggleable__label-arrow:before {color: black;}#sk-container-id-14 div.sk-toggleable__content {max-height: 0;max-width: 0;overflow: hidden;text-align: left;background-color: #f0f8ff;}#sk-container-id-14 div.sk-toggleable__content pre {margin: 0.2em;color: black;border-radius: 0.25em;background-color: #f0f8ff;}#sk-container-id-14 input.sk-toggleable__control:checked~div.sk-toggleable__content {max-height: 200px;max-width: 100%;overflow: auto;}#sk-container-id-14 input.sk-toggleable__control:checked~label.sk-toggleable__label-arrow:before {content: \"▾\";}#sk-container-id-14 div.sk-estimator input.sk-toggleable__control:checked~label.sk-toggleable__label {background-color: #d4ebff;}#sk-container-id-14 div.sk-label input.sk-toggleable__control:checked~label.sk-toggleable__label {background-color: #d4ebff;}#sk-container-id-14 input.sk-hidden--visually {border: 0;clip: rect(1px 1px 1px 1px);clip: rect(1px, 1px, 1px, 1px);height: 1px;margin: -1px;overflow: hidden;padding: 0;position: absolute;width: 1px;}#sk-container-id-14 div.sk-estimator {font-family: monospace;background-color: #f0f8ff;border: 1px dotted black;border-radius: 0.25em;box-sizing: border-box;margin-bottom: 0.5em;}#sk-container-id-14 div.sk-estimator:hover {background-color: #d4ebff;}#sk-container-id-14 div.sk-parallel-item::after {content: \"\";width: 100%;border-bottom: 1px solid gray;flex-grow: 1;}#sk-container-id-14 div.sk-label:hover label.sk-toggleable__label {background-color: #d4ebff;}#sk-container-id-14 div.sk-serial::before {content: \"\";position: absolute;border-left: 1px solid gray;box-sizing: border-box;top: 0;bottom: 0;left: 50%;z-index: 0;}#sk-container-id-14 div.sk-serial {display: flex;flex-direction: column;align-items: center;background-color: white;padding-right: 0.2em;padding-left: 0.2em;position: relative;}#sk-container-id-14 div.sk-item {position: relative;z-index: 1;}#sk-container-id-14 div.sk-parallel {display: flex;align-items: stretch;justify-content: center;background-color: white;position: relative;}#sk-container-id-14 div.sk-item::before, #sk-container-id-14 div.sk-parallel-item::before {content: \"\";position: absolute;border-left: 1px solid gray;box-sizing: border-box;top: 0;bottom: 0;left: 50%;z-index: -1;}#sk-container-id-14 div.sk-parallel-item {display: flex;flex-direction: column;z-index: 1;position: relative;background-color: white;}#sk-container-id-14 div.sk-parallel-item:first-child::after {align-self: flex-end;width: 50%;}#sk-container-id-14 div.sk-parallel-item:last-child::after {align-self: flex-start;width: 50%;}#sk-container-id-14 div.sk-parallel-item:only-child::after {width: 0;}#sk-container-id-14 div.sk-dashed-wrapped {border: 1px dashed gray;margin: 0 0.4em 0.5em 0.4em;box-sizing: border-box;padding-bottom: 0.4em;background-color: white;}#sk-container-id-14 div.sk-label label {font-family: monospace;font-weight: bold;display: inline-block;line-height: 1.2em;}#sk-container-id-14 div.sk-label-container {text-align: center;}#sk-container-id-14 div.sk-container {/* jupyter's `normalize.less` sets `[hidden] { display: none; }` but bootstrap.min.css set `[hidden] { display: none !important; }` so we also need the `!important` here to be able to override the default hidden behavior on the sphinx rendered scikit-learn.org. See: https://github.com/scikit-learn/scikit-learn/issues/21755 */display: inline-block !important;position: relative;}#sk-container-id-14 div.sk-text-repr-fallback {display: none;}</style><div id=\"sk-container-id-14\" class=\"sk-top-container\"><div class=\"sk-text-repr-fallback\"><pre>Pipeline(steps=[(&#x27;CatBoost Encoder&#x27;,\n",
       "                 CatBoostEncoder(cols=[&#x27;bin_0&#x27;, &#x27;bin_1&#x27;, &#x27;bin_2&#x27;, &#x27;bin_3&#x27;,\n",
       "                                       &#x27;bin_4&#x27;, &#x27;nom_0&#x27;, &#x27;nom_1&#x27;, &#x27;nom_2&#x27;,\n",
       "                                       &#x27;nom_3&#x27;, &#x27;nom_4&#x27;, &#x27;nom_5&#x27;, &#x27;nom_6&#x27;,\n",
       "                                       &#x27;nom_7&#x27;, &#x27;nom_8&#x27;, &#x27;nom_9&#x27;, &#x27;ord_0&#x27;,\n",
       "                                       &#x27;ord_1&#x27;, &#x27;ord_2&#x27;, &#x27;ord_3&#x27;, &#x27;ord_4&#x27;,\n",
       "                                       &#x27;ord_5&#x27;, &#x27;day&#x27;, &#x27;month&#x27;],\n",
       "                                 handle_unknown=&#x27;ignore&#x27;, random_state=2022)),\n",
       "                (&#x27;SI&#x27;, SimpleImputer(strategy=&#x27;most_frequent&#x27;)),\n",
       "                (&#x27;CatBoostClassifier&#x27;,\n",
       "                 &lt;catboost.core.CatBoostClassifier object at 0x7ff5eacfbf70&gt;)])</pre><b>In a Jupyter environment, please rerun this cell to show the HTML representation or trust the notebook. <br />On GitHub, the HTML representation is unable to render, please try loading this page with nbviewer.org.</b></div><div class=\"sk-container\" hidden><div class=\"sk-item sk-dashed-wrapped\"><div class=\"sk-label-container\"><div class=\"sk-label sk-toggleable\"><input class=\"sk-toggleable__control sk-hidden--visually\" id=\"sk-estimator-id-53\" type=\"checkbox\" ><label for=\"sk-estimator-id-53\" class=\"sk-toggleable__label sk-toggleable__label-arrow\">Pipeline</label><div class=\"sk-toggleable__content\"><pre>Pipeline(steps=[(&#x27;CatBoost Encoder&#x27;,\n",
       "                 CatBoostEncoder(cols=[&#x27;bin_0&#x27;, &#x27;bin_1&#x27;, &#x27;bin_2&#x27;, &#x27;bin_3&#x27;,\n",
       "                                       &#x27;bin_4&#x27;, &#x27;nom_0&#x27;, &#x27;nom_1&#x27;, &#x27;nom_2&#x27;,\n",
       "                                       &#x27;nom_3&#x27;, &#x27;nom_4&#x27;, &#x27;nom_5&#x27;, &#x27;nom_6&#x27;,\n",
       "                                       &#x27;nom_7&#x27;, &#x27;nom_8&#x27;, &#x27;nom_9&#x27;, &#x27;ord_0&#x27;,\n",
       "                                       &#x27;ord_1&#x27;, &#x27;ord_2&#x27;, &#x27;ord_3&#x27;, &#x27;ord_4&#x27;,\n",
       "                                       &#x27;ord_5&#x27;, &#x27;day&#x27;, &#x27;month&#x27;],\n",
       "                                 handle_unknown=&#x27;ignore&#x27;, random_state=2022)),\n",
       "                (&#x27;SI&#x27;, SimpleImputer(strategy=&#x27;most_frequent&#x27;)),\n",
       "                (&#x27;CatBoostClassifier&#x27;,\n",
       "                 &lt;catboost.core.CatBoostClassifier object at 0x7ff5eacfbf70&gt;)])</pre></div></div></div><div class=\"sk-serial\"><div class=\"sk-item\"><div class=\"sk-estimator sk-toggleable\"><input class=\"sk-toggleable__control sk-hidden--visually\" id=\"sk-estimator-id-54\" type=\"checkbox\" ><label for=\"sk-estimator-id-54\" class=\"sk-toggleable__label sk-toggleable__label-arrow\">CatBoostEncoder</label><div class=\"sk-toggleable__content\"><pre>CatBoostEncoder(cols=[&#x27;bin_0&#x27;, &#x27;bin_1&#x27;, &#x27;bin_2&#x27;, &#x27;bin_3&#x27;, &#x27;bin_4&#x27;, &#x27;nom_0&#x27;,\n",
       "                      &#x27;nom_1&#x27;, &#x27;nom_2&#x27;, &#x27;nom_3&#x27;, &#x27;nom_4&#x27;, &#x27;nom_5&#x27;, &#x27;nom_6&#x27;,\n",
       "                      &#x27;nom_7&#x27;, &#x27;nom_8&#x27;, &#x27;nom_9&#x27;, &#x27;ord_0&#x27;, &#x27;ord_1&#x27;, &#x27;ord_2&#x27;,\n",
       "                      &#x27;ord_3&#x27;, &#x27;ord_4&#x27;, &#x27;ord_5&#x27;, &#x27;day&#x27;, &#x27;month&#x27;],\n",
       "                handle_unknown=&#x27;ignore&#x27;, random_state=2022)</pre></div></div></div><div class=\"sk-item\"><div class=\"sk-estimator sk-toggleable\"><input class=\"sk-toggleable__control sk-hidden--visually\" id=\"sk-estimator-id-55\" type=\"checkbox\" ><label for=\"sk-estimator-id-55\" class=\"sk-toggleable__label sk-toggleable__label-arrow\">SimpleImputer</label><div class=\"sk-toggleable__content\"><pre>SimpleImputer(strategy=&#x27;most_frequent&#x27;)</pre></div></div></div><div class=\"sk-item\"><div class=\"sk-estimator sk-toggleable\"><input class=\"sk-toggleable__control sk-hidden--visually\" id=\"sk-estimator-id-56\" type=\"checkbox\" ><label for=\"sk-estimator-id-56\" class=\"sk-toggleable__label sk-toggleable__label-arrow\">CatBoostClassifier</label><div class=\"sk-toggleable__content\"><pre>&lt;catboost.core.CatBoostClassifier object at 0x7ff5eacfbf70&gt;</pre></div></div></div></div></div></div></div>"
      ],
      "text/plain": [
       "Pipeline(steps=[('CatBoost Encoder',\n",
       "                 CatBoostEncoder(cols=['bin_0', 'bin_1', 'bin_2', 'bin_3',\n",
       "                                       'bin_4', 'nom_0', 'nom_1', 'nom_2',\n",
       "                                       'nom_3', 'nom_4', 'nom_5', 'nom_6',\n",
       "                                       'nom_7', 'nom_8', 'nom_9', 'ord_0',\n",
       "                                       'ord_1', 'ord_2', 'ord_3', 'ord_4',\n",
       "                                       'ord_5', 'day', 'month'],\n",
       "                                 handle_unknown='ignore', random_state=2022)),\n",
       "                ('SI', SimpleImputer(strategy='most_frequent')),\n",
       "                ('CatBoostClassifier',\n",
       "                 <catboost.core.CatBoostClassifier object at 0x7ff5eacfbf70>)])"
      ]
     },
     "execution_count": 132,
     "metadata": {},
     "output_type": "execute_result"
    }
   ],
   "source": [
    "# treinando o pipeline na base de treinamento\n",
    "pipe.fit(Xtrain, ytrain)"
   ]
  },
  {
   "cell_type": "code",
   "execution_count": 133,
   "id": "848dbdb2",
   "metadata": {},
   "outputs": [],
   "source": [
    "# realizando predições na base out of sample\n",
    "predicoes = pipe.predict(Xtest)"
   ]
  },
  {
   "cell_type": "code",
   "execution_count": 134,
   "id": "68daef72",
   "metadata": {},
   "outputs": [
    {
     "name": "stdout",
     "output_type": "stream",
     "text": [
      "AUROC base de Teste: 0.6665382702341883\n"
     ]
    }
   ],
   "source": [
    "print('AUROC base de Teste:', roc_auc_score(ytest, predicoes))"
   ]
  },
  {
   "cell_type": "markdown",
   "id": "8706abd2",
   "metadata": {},
   "source": [
    "## 3) Finalizando\n",
    "Como podemos ver acima, houve uma queda relevante de AUROC entre a métrica de validação e a métrica de teste. Isso pode ter acontecido por diversas razões, dentre elas, *data drift*, mudanças da distribuição das variáveis independentes ao longo do tempo, *overfitting* do algoritmo, escolha inadequada do método de validação e até mesmo falha na montagem da base de dados (bem menos provável nesse caso). Esses são ótimos temas para aprofundarmos em próximos artigos.\n",
    "<br></br>\n",
    "\n",
    "Portanto, como o objetivo deste artigo não foi atingir o melhor modelo possível para essa base em específico, somos tolerantes com essa discrepância de métrica. Meu objetivo principal foi apresentar uma nova ferramenta de *encoding* de variáveis categóricas mostrando a idéia principal por trás do método e em que situações ela pode ser usada na sua rotina de modelagem. \n",
    "<br></br>\n",
    "\n",
    "*Se esse artigo foi útil para você, peço que deixe seu like e um comentário. Estou aberto à dúvidas e contribuições. Você pode entrar em contato comigo nos endereços abaixo:*\n",
    "<br></br>\n",
    "\n",
    "> - **LinkedIn**: https://www.linkedin.com/in/jose-neto1/\n",
    "> - **GitHub**: https://github.com/jose-raposo\n",
    "<br></br>\n",
    "\n",
    "**Referências:**  \n",
    "1. https://catboost.ai/en/docs/concepts/algorithm-main-stages_cat-to-numberic  \n",
    "2. https://www.geeksforgeeks.org/categorical-encoding-with-catboost-encoder/  \n",
    "3. https://contrib.scikit-learn.org/category_encoders/catboost.html"
   ]
  }
 ],
 "metadata": {
  "kernelspec": {
   "display_name": "Python 3",
   "language": "python",
   "name": "python3"
  },
  "language_info": {
   "codemirror_mode": {
    "name": "ipython",
    "version": 3
   },
   "file_extension": ".py",
   "mimetype": "text/x-python",
   "name": "python",
   "nbconvert_exporter": "python",
   "pygments_lexer": "ipython3",
   "version": "3.9.1"
  }
 },
 "nbformat": 4,
 "nbformat_minor": 5
}
